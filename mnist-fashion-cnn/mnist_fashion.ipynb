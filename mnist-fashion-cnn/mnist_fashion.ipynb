{
 "cells": [
  {
   "cell_type": "code",
   "execution_count": 1,
   "metadata": {},
   "outputs": [],
   "source": [
    "# https://www.udemy.com/course/machine-learning-practical/learn/lecture/11789822#announcements/3055752"
   ]
  },
  {
   "cell_type": "code",
   "execution_count": 2,
   "metadata": {},
   "outputs": [
    {
     "name": "stderr",
     "output_type": "stream",
     "text": [
      "Using TensorFlow backend.\n"
     ]
    }
   ],
   "source": [
    "from keras.datasets import fashion_mnist\n",
    "\n",
    "(X_train, y_train), (X_test, y_test) = fashion_mnist.load_data()"
   ]
  },
  {
   "cell_type": "code",
   "execution_count": 3,
   "metadata": {},
   "outputs": [
    {
     "data": {
      "text/plain": [
       "((60000,), (10000,))"
      ]
     },
     "execution_count": 3,
     "metadata": {},
     "output_type": "execute_result"
    }
   ],
   "source": [
    "y_train.shape, y_test.shape"
   ]
  },
  {
   "cell_type": "code",
   "execution_count": 4,
   "metadata": {},
   "outputs": [],
   "source": [
    "X_train = X_train/255\n",
    "X_test = X_test/255"
   ]
  },
  {
   "cell_type": "code",
   "execution_count": 5,
   "metadata": {},
   "outputs": [],
   "source": [
    "import pandas as pd\n",
    "import numpy as np\n",
    "import matplotlib.pyplot as plt"
   ]
  },
  {
   "cell_type": "code",
   "execution_count": 6,
   "metadata": {},
   "outputs": [],
   "source": [
    "labels = ['T-shirt/top','Trouser','Pullover','Dress','Coat','Sandal','Shirt','Sneaker','Bag','Ankle boot']"
   ]
  },
  {
   "cell_type": "code",
   "execution_count": 7,
   "metadata": {},
   "outputs": [],
   "source": [
    "from keras.models import Sequential\n",
    "from keras.utils import to_categorical\n",
    "from keras.layers import Conv2D, MaxPooling2D, Dense, Flatten, Dropout\n",
    "from keras.optimizers import Adam"
   ]
  },
  {
   "cell_type": "code",
   "execution_count": 8,
   "metadata": {},
   "outputs": [],
   "source": [
    "#y_train = to_categorical(y_train)\n",
    "#y_test = to_categorical(y_test)"
   ]
  },
  {
   "cell_type": "code",
   "execution_count": 9,
   "metadata": {},
   "outputs": [],
   "source": [
    "X_train = X_train.reshape(X_train.shape[0], 28, 28, 1)\n",
    "X_test = X_test.reshape(X_test.shape[0], 28, 28, 1)"
   ]
  },
  {
   "cell_type": "code",
   "execution_count": 20,
   "metadata": {},
   "outputs": [],
   "source": [
    "def create_model():\n",
    "    model = Sequential()\n",
    "    model.add(Conv2D(64,(3,3), input_shape=(28,28,1), activation='relu'))\n",
    "    model.add(MaxPooling2D(pool_size=(2,2)))\n",
    "    model.add(Flatten())\n",
    "    model.add(Dense(units=700, activation='relu'))\n",
    "    model.add(Dense(units=500, activation='relu'))\n",
    "    model.add(Dense(units=10, activation='sigmoid'))\n",
    "    model.compile(loss='sparse_categorical_crossentropy', optimizer=Adam(lr=0.001), metrics=['accuracy'])\n",
    "    return model;"
   ]
  },
  {
   "cell_type": "code",
   "execution_count": 21,
   "metadata": {},
   "outputs": [],
   "source": [
    "model = create_model()"
   ]
  },
  {
   "cell_type": "code",
   "execution_count": 22,
   "metadata": {},
   "outputs": [
    {
     "name": "stdout",
     "output_type": "stream",
     "text": [
      "Train on 42000 samples, validate on 18000 samples\n",
      "Epoch 1/50\n",
      "42000/42000 [==============================] - 76s 2ms/step - loss: 0.6401 - accuracy: 0.7737 - val_loss: 0.4660 - val_accuracy: 0.8221\n",
      "Epoch 2/50\n",
      "42000/42000 [==============================] - 85s 2ms/step - loss: 0.3584 - accuracy: 0.8725 - val_loss: 0.4916 - val_accuracy: 0.8158\n",
      "Epoch 3/50\n",
      "42000/42000 [==============================] - 74s 2ms/step - loss: 0.2999 - accuracy: 0.8922 - val_loss: 0.3008 - val_accuracy: 0.8938\n",
      "Epoch 4/50\n",
      "42000/42000 [==============================] - 78s 2ms/step - loss: 0.2594 - accuracy: 0.9060 - val_loss: 0.2944 - val_accuracy: 0.8901\n",
      "Epoch 5/50\n",
      "42000/42000 [==============================] - 74s 2ms/step - loss: 0.2208 - accuracy: 0.9183 - val_loss: 0.2866 - val_accuracy: 0.8957\n",
      "Epoch 6/50\n",
      "42000/42000 [==============================] - 76s 2ms/step - loss: 0.1990 - accuracy: 0.9274 - val_loss: 0.2788 - val_accuracy: 0.8992\n",
      "Epoch 7/50\n",
      "42000/42000 [==============================] - 73s 2ms/step - loss: 0.1774 - accuracy: 0.9342 - val_loss: 0.3747 - val_accuracy: 0.8672\n",
      "Epoch 8/50\n",
      "42000/42000 [==============================] - 69s 2ms/step - loss: 0.1752 - accuracy: 0.9342 - val_loss: 0.2667 - val_accuracy: 0.9070\n",
      "Epoch 9/50\n",
      "42000/42000 [==============================] - 67s 2ms/step - loss: 0.1683 - accuracy: 0.9387 - val_loss: 0.2506 - val_accuracy: 0.9109\n",
      "Epoch 10/50\n",
      "42000/42000 [==============================] - 65s 2ms/step - loss: 0.1306 - accuracy: 0.9520 - val_loss: 0.2623 - val_accuracy: 0.9099\n",
      "Epoch 11/50\n",
      "42000/42000 [==============================] - 67s 2ms/step - loss: 0.1167 - accuracy: 0.9574 - val_loss: 0.2675 - val_accuracy: 0.9122\n",
      "Epoch 12/50\n",
      "42000/42000 [==============================] - 65s 2ms/step - loss: 0.1025 - accuracy: 0.9629 - val_loss: 0.3111 - val_accuracy: 0.9057\n",
      "Epoch 13/50\n",
      "42000/42000 [==============================] - 65s 2ms/step - loss: 0.1112 - accuracy: 0.9598 - val_loss: 0.2570 - val_accuracy: 0.9169\n",
      "Epoch 14/50\n",
      "42000/42000 [==============================] - 65s 2ms/step - loss: 0.0777 - accuracy: 0.9720 - val_loss: 0.2854 - val_accuracy: 0.9124\n",
      "Epoch 15/50\n",
      "42000/42000 [==============================] - 65s 2ms/step - loss: 0.0693 - accuracy: 0.9751 - val_loss: 0.2969 - val_accuracy: 0.9139\n",
      "Epoch 16/50\n",
      "42000/42000 [==============================] - 66s 2ms/step - loss: 0.0658 - accuracy: 0.9771 - val_loss: 0.2748 - val_accuracy: 0.9209\n",
      "Epoch 17/50\n",
      "42000/42000 [==============================] - 64s 2ms/step - loss: 0.0487 - accuracy: 0.9833 - val_loss: 0.5643 - val_accuracy: 0.8627\n",
      "Epoch 18/50\n",
      "42000/42000 [==============================] - 65s 2ms/step - loss: 0.0895 - accuracy: 0.9697 - val_loss: 0.2958 - val_accuracy: 0.9203\n",
      "Epoch 19/50\n",
      "42000/42000 [==============================] - 64s 2ms/step - loss: 0.0436 - accuracy: 0.9850 - val_loss: 0.3176 - val_accuracy: 0.9154\n",
      "Epoch 20/50\n",
      "42000/42000 [==============================] - 65s 2ms/step - loss: 0.0418 - accuracy: 0.9861 - val_loss: 0.4045 - val_accuracy: 0.8966\n",
      "Epoch 21/50\n",
      "42000/42000 [==============================] - 65s 2ms/step - loss: 0.0598 - accuracy: 0.9779 - val_loss: 0.3288 - val_accuracy: 0.9188\n",
      "Epoch 22/50\n",
      "42000/42000 [==============================] - 64s 2ms/step - loss: 0.0268 - accuracy: 0.9912 - val_loss: 0.3456 - val_accuracy: 0.9179\n",
      "Epoch 23/50\n",
      "42000/42000 [==============================] - 65s 2ms/step - loss: 0.0208 - accuracy: 0.9933 - val_loss: 0.3872 - val_accuracy: 0.9114\n",
      "Epoch 24/50\n",
      "42000/42000 [==============================] - 64s 2ms/step - loss: 0.0274 - accuracy: 0.9913 - val_loss: 0.4706 - val_accuracy: 0.8928\n",
      "Epoch 25/50\n",
      "42000/42000 [==============================] - 65s 2ms/step - loss: 0.0382 - accuracy: 0.9868 - val_loss: 0.3750 - val_accuracy: 0.9153\n",
      "Epoch 26/50\n",
      "42000/42000 [==============================] - 64s 2ms/step - loss: 0.0198 - accuracy: 0.9934 - val_loss: 0.3673 - val_accuracy: 0.9188\n",
      "Epoch 27/50\n",
      "42000/42000 [==============================] - 64s 2ms/step - loss: 0.0111 - accuracy: 0.9972 - val_loss: 0.3805 - val_accuracy: 0.9205\n",
      "Epoch 28/50\n",
      "42000/42000 [==============================] - 67s 2ms/step - loss: 0.0069 - accuracy: 0.9984 - val_loss: 0.3878 - val_accuracy: 0.9217\n",
      "Epoch 29/50\n",
      "42000/42000 [==============================] - 68s 2ms/step - loss: 0.0043 - accuracy: 0.9992 - val_loss: 0.3953 - val_accuracy: 0.9229\n",
      "Epoch 30/50\n",
      "42000/42000 [==============================] - 77s 2ms/step - loss: 0.0041 - accuracy: 0.9989 - val_loss: 0.4060 - val_accuracy: 0.9189\n",
      "Epoch 31/50\n",
      "42000/42000 [==============================] - 85s 2ms/step - loss: 0.0043 - accuracy: 0.9990 - val_loss: 0.4129 - val_accuracy: 0.9188\n",
      "Epoch 32/50\n",
      "42000/42000 [==============================] - 67s 2ms/step - loss: 0.0058 - accuracy: 0.9986 - val_loss: 0.4254 - val_accuracy: 0.9211\n",
      "Epoch 33/50\n",
      "42000/42000 [==============================] - 68s 2ms/step - loss: 0.0127 - accuracy: 0.9962 - val_loss: 0.4335 - val_accuracy: 0.9155\n",
      "Epoch 34/50\n",
      "42000/42000 [==============================] - 68s 2ms/step - loss: 0.0337 - accuracy: 0.9890 - val_loss: 0.4028 - val_accuracy: 0.9172\n",
      "Epoch 35/50\n",
      "42000/42000 [==============================] - 70s 2ms/step - loss: 0.0093 - accuracy: 0.9977 - val_loss: 0.4629 - val_accuracy: 0.9111\n",
      "Epoch 36/50\n",
      "42000/42000 [==============================] - 68s 2ms/step - loss: 0.0201 - accuracy: 0.9940 - val_loss: 0.4700 - val_accuracy: 0.9081\n",
      "Epoch 37/50\n",
      "42000/42000 [==============================] - 69s 2ms/step - loss: 0.0176 - accuracy: 0.9939 - val_loss: 0.4185 - val_accuracy: 0.9177\n",
      "Epoch 38/50\n",
      "42000/42000 [==============================] - 70s 2ms/step - loss: 0.0067 - accuracy: 0.9982 - val_loss: 0.4301 - val_accuracy: 0.9200\n",
      "Epoch 39/50\n",
      "42000/42000 [==============================] - 70s 2ms/step - loss: 0.0018 - accuracy: 0.9997 - val_loss: 0.4412 - val_accuracy: 0.9193\n",
      "Epoch 40/50\n",
      "42000/42000 [==============================] - 68s 2ms/step - loss: 0.0013 - accuracy: 0.9998 - val_loss: 0.4391 - val_accuracy: 0.9218\n",
      "Epoch 41/50\n",
      "42000/42000 [==============================] - 68s 2ms/step - loss: 5.1666e-04 - accuracy: 1.0000 - val_loss: 0.4432 - val_accuracy: 0.9219\n",
      "Epoch 42/50\n",
      "42000/42000 [==============================] - 73s 2ms/step - loss: 3.3657e-04 - accuracy: 1.0000 - val_loss: 0.4484 - val_accuracy: 0.9216\n",
      "Epoch 43/50\n",
      "42000/42000 [==============================] - 67s 2ms/step - loss: 2.7342e-04 - accuracy: 1.0000 - val_loss: 0.4531 - val_accuracy: 0.9217\n",
      "Epoch 44/50\n",
      "42000/42000 [==============================] - 68s 2ms/step - loss: 2.3993e-04 - accuracy: 1.0000 - val_loss: 0.4578 - val_accuracy: 0.9216\n",
      "Epoch 45/50\n",
      "42000/42000 [==============================] - 65s 2ms/step - loss: 2.1444e-04 - accuracy: 1.0000 - val_loss: 0.4599 - val_accuracy: 0.9222\n",
      "Epoch 46/50\n",
      "42000/42000 [==============================] - 65s 2ms/step - loss: 1.9236e-04 - accuracy: 1.0000 - val_loss: 0.4634 - val_accuracy: 0.9221\n",
      "Epoch 47/50\n",
      "42000/42000 [==============================] - 65s 2ms/step - loss: 1.7996e-04 - accuracy: 1.0000 - val_loss: 0.4657 - val_accuracy: 0.9217\n",
      "Epoch 48/50\n",
      "42000/42000 [==============================] - 64s 2ms/step - loss: 1.6315e-04 - accuracy: 1.0000 - val_loss: 0.4685 - val_accuracy: 0.9223\n",
      "Epoch 49/50\n",
      "42000/42000 [==============================] - 64s 2ms/step - loss: 1.5143e-04 - accuracy: 1.0000 - val_loss: 0.4707 - val_accuracy: 0.9219\n",
      "Epoch 50/50\n",
      "42000/42000 [==============================] - 65s 2ms/step - loss: 1.3970e-04 - accuracy: 1.0000 - val_loss: 0.4726 - val_accuracy: 0.9222\n"
     ]
    }
   ],
   "source": [
    "fit_history = model.fit(X_train, y_train, batch_size=512, epochs=50, verbose=1, validation_split=0.3)"
   ]
  },
  {
   "cell_type": "code",
   "execution_count": 23,
   "metadata": {},
   "outputs": [
    {
     "name": "stdout",
     "output_type": "stream",
     "text": [
      "10000/10000 [==============================] - 6s 617us/step\n"
     ]
    }
   ],
   "source": [
    "_, test_accuracy = model.evaluate(X_test, y_test)"
   ]
  },
  {
   "cell_type": "code",
   "execution_count": 24,
   "metadata": {},
   "outputs": [
    {
     "data": {
      "text/plain": [
       "0.9200000166893005"
      ]
     },
     "execution_count": 24,
     "metadata": {},
     "output_type": "execute_result"
    }
   ],
   "source": [
    "test_accuracy"
   ]
  },
  {
   "cell_type": "code",
   "execution_count": 25,
   "metadata": {},
   "outputs": [
    {
     "name": "stdout",
     "output_type": "stream",
     "text": [
      "60000/60000 [==============================] - 36s 606us/step\n"
     ]
    }
   ],
   "source": [
    "_, train_accuracy = model.evaluate(X_train, y_train)"
   ]
  },
  {
   "cell_type": "code",
   "execution_count": 26,
   "metadata": {},
   "outputs": [
    {
     "data": {
      "text/plain": [
       "0.9766833186149597"
      ]
     },
     "execution_count": 26,
     "metadata": {},
     "output_type": "execute_result"
    }
   ],
   "source": [
    "train_accuracy"
   ]
  },
  {
   "cell_type": "code",
   "execution_count": null,
   "metadata": {},
   "outputs": [],
   "source": []
  },
  {
   "cell_type": "code",
   "execution_count": null,
   "metadata": {},
   "outputs": [],
   "source": []
  },
  {
   "cell_type": "code",
   "execution_count": null,
   "metadata": {},
   "outputs": [],
   "source": [
    "model.save('model_mnist.h5')"
   ]
  },
  {
   "cell_type": "code",
   "execution_count": null,
   "metadata": {},
   "outputs": [],
   "source": [
    "from keras.models import load_model\n",
    "loaded_model = load_model('model_mnist.h5')"
   ]
  },
  {
   "cell_type": "code",
   "execution_count": null,
   "metadata": {},
   "outputs": [],
   "source": [
    "loaded_model.evaluate(X_test, y_test)"
   ]
  },
  {
   "cell_type": "code",
   "execution_count": null,
   "metadata": {},
   "outputs": [],
   "source": []
  },
  {
   "cell_type": "code",
   "execution_count": null,
   "metadata": {},
   "outputs": [],
   "source": [
    "## not executed below code.. need to review\n",
    "\n",
    "# https://machinelearningmastery.com/how-to-develop-a-cnn-from-scratch-for-fashion-mnist-clothing-classification/"
   ]
  },
  {
   "cell_type": "code",
   "execution_count": null,
   "metadata": {},
   "outputs": [],
   "source": [
    "from sklearn.model_selection import KFold\n",
    "\n",
    "# evaluate a model using k-fold cross-validation\n",
    "def evaluate_model(dataX, dataY, n_folds=5):\n",
    "    scores, histories = list(), list()\n",
    "    # prepare cross validation\n",
    "    kfold = KFold(n_folds, shuffle=True, random_state=1)\n",
    "    # enumerate splits\n",
    "    for train_ix, test_ix in kfold.split(dataX):\n",
    "        # define model\n",
    "        model = create_model()\n",
    "        # select rows for train and test\n",
    "        trainX, trainY, testX, testY = dataX[train_ix], dataY[train_ix], dataX[test_ix], dataY[test_ix]\n",
    "        # fit model\n",
    "        history = model.fit(trainX, trainY, epochs=10, batch_size=32, validation_data=(testX, testY), verbose=0)\n",
    "        # evaluate model\n",
    "        _, acc = model.evaluate(testX, testY, verbose=0)\n",
    "        print('> %.3f' % (acc * 100.0))\n",
    "        # append scores\n",
    "        scores.append(acc)\n",
    "        histories.append(history)\n",
    "    return scores, histories\n",
    "\n",
    "# plot diagnostic learning curves\n",
    "def summarize_diagnostics(histories):\n",
    "    for i in range(len(histories)):\n",
    "        # plot loss\n",
    "        pyplot.subplot(211)\n",
    "        pyplot.title('Cross Entropy Loss')\n",
    "        pyplot.plot(histories[i].history['loss'], color='blue', label='train')\n",
    "        pyplot.plot(histories[i].history['val_loss'], color='orange', label='test')\n",
    "        # plot accuracy\n",
    "        pyplot.subplot(212)\n",
    "        pyplot.title('Classification Accuracy')\n",
    "        pyplot.plot(histories[i].history['accuracy'], color='blue', label='train')\n",
    "        pyplot.plot(histories[i].history['val_accuracy'], color='orange', label='test')\n",
    "    pyplot.show()\n",
    "\n",
    "# summarize model performance\n",
    "def summarize_performance(scores):\n",
    "    # print summary\n",
    "    print('Accuracy: mean=%.3f std=%.3f, n=%d' % (mean(scores)*100, std(scores)*100, len(scores)))\n",
    "    # box and whisker plots of results\n",
    "    pyplot.boxplot(scores)\n",
    "    pyplot.show()"
   ]
  },
  {
   "cell_type": "code",
   "execution_count": null,
   "metadata": {},
   "outputs": [],
   "source": []
  },
  {
   "cell_type": "code",
   "execution_count": null,
   "metadata": {},
   "outputs": [],
   "source": [
    "scores, histories = evaluate_model(X_train, y_train)"
   ]
  },
  {
   "cell_type": "code",
   "execution_count": null,
   "metadata": {},
   "outputs": [],
   "source": [
    "histories"
   ]
  },
  {
   "cell_type": "code",
   "execution_count": null,
   "metadata": {},
   "outputs": [],
   "source": [
    "summarize_diagnostics(histories)"
   ]
  },
  {
   "cell_type": "code",
   "execution_count": null,
   "metadata": {},
   "outputs": [],
   "source": [
    "summarize_performance(scores)"
   ]
  },
  {
   "cell_type": "code",
   "execution_count": null,
   "metadata": {},
   "outputs": [],
   "source": []
  }
 ],
 "metadata": {
  "kernelspec": {
   "display_name": "Python 3",
   "language": "python",
   "name": "python3"
  },
  "language_info": {
   "codemirror_mode": {
    "name": "ipython",
    "version": 3
   },
   "file_extension": ".py",
   "mimetype": "text/x-python",
   "name": "python",
   "nbconvert_exporter": "python",
   "pygments_lexer": "ipython3",
   "version": "3.7.4"
  }
 },
 "nbformat": 4,
 "nbformat_minor": 4
}
